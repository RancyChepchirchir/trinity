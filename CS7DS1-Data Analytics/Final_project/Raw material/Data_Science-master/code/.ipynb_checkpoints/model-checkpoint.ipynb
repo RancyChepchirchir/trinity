{
 "cells": [
  {
   "cell_type": "code",
   "execution_count": 22,
   "metadata": {},
   "outputs": [],
   "source": [
    "import pandas as  pd\n",
    "import missingno as msno\n",
    "%matplotlib inline"
   ]
  },
  {
   "cell_type": "code",
   "execution_count": 23,
   "metadata": {},
   "outputs": [],
   "source": [
    "df=pd.read_csv('../data/data.csv')"
   ]
  },
  {
   "cell_type": "code",
   "execution_count": 24,
   "metadata": {},
   "outputs": [],
   "source": [
    "df=df.fillna(method='pad')\n",
    "from sklearn.model_selection import train_test_split\n",
    "X = df.drop('Response', axis=1)\n",
    "y = df['Response']\n",
    "X_train, X_test, y_train, y_test = train_test_split(X, y, test_size = 0.20)"
   ]
  },
  {
   "cell_type": "code",
   "execution_count": 25,
   "metadata": {},
   "outputs": [],
   "source": [
    "from sklearn.ensemble import RandomForestRegressor\n",
    "# Instantiate model with 100 decision trees\n",
    "rf = RandomForestRegressor(n_estimators = 500,n_jobs=-1, random_state=42)\n",
    "# Train the model on training data\n",
    "rf.fit(X_train, y_train)\n",
    "y_pred = rf.predict(X_test)"
   ]
  },
  {
   "cell_type": "code",
   "execution_count": 26,
   "metadata": {},
   "outputs": [
    {
     "name": "stdout",
     "output_type": "stream",
     "text": [
      "Accuracy:  97.625\n",
      "RMSE:  0.09811557810392123\n",
      "MAE:  0.01\n"
     ]
    }
   ],
   "source": [
    "import numpy as np\n",
    "from math import sqrt\n",
    "from sklearn.metrics import accuracy_score,mean_squared_error, recall_score\n",
    "errors = abs(y_pred - y_test)\n",
    "mape = 100 * (errors / y_test)\n",
    "mae= round(np.mean(errors),2)\n",
    "accuracy = 100 - np.mean(mape)\n",
    "rmse = sqrt(mean_squared_error(y_test,y_pred))\n",
    "print('Accuracy: ',accuracy)\n",
    "print('RMSE: ',rmse)\n",
    "print('MAE: ',mae)"
   ]
  }
 ],
 "metadata": {
  "kernelspec": {
   "display_name": "Python 3",
   "language": "python",
   "name": "python3"
  },
  "language_info": {
   "codemirror_mode": {
    "name": "ipython",
    "version": 3
   },
   "file_extension": ".py",
   "mimetype": "text/x-python",
   "name": "python",
   "nbconvert_exporter": "python",
   "pygments_lexer": "ipython3",
   "version": "3.6.5"
  }
 },
 "nbformat": 4,
 "nbformat_minor": 2
}
